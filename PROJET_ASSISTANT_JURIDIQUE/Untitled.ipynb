{
 "cells": [
  {
   "cell_type": "code",
   "execution_count": 1,
   "id": "39362a6e-ae5f-49d9-a6d3-52500dda16b7",
   "metadata": {},
   "outputs": [
    {
     "name": "stdout",
     "output_type": "stream",
     "text": [
      "Requirement already satisfied: pymupdf in c:\\users\\utilisateur\\anaconda4\\lib\\site-packages (1.26.3)\n"
     ]
    }
   ],
   "source": [
    "!pip install pymupdf\n"
   ]
  },
  {
   "cell_type": "code",
   "execution_count": 6,
   "id": "bddc05bb-4b18-40a9-9252-ab086b05bec4",
   "metadata": {},
   "outputs": [
    {
     "name": "stdout",
     "output_type": "stream",
     "text": [
      " Chargement des fichiers PDF...\n",
      " 57 documents chargés\n",
      " Découpage des textes...\n",
      " 426 morceaux générés\n",
      " Création de la base de vecteurs...\n",
      " Base sauvegardée dans 'base_vecteurs'\n"
     ]
    }
   ],
   "source": [
    "!python creer_vecteurs.py"
   ]
  },
  {
   "cell_type": "code",
   "execution_count": 8,
   "id": "01c2c1e4-fbcd-43d6-871e-3d689539c2d7",
   "metadata": {},
   "outputs": [
    {
     "name": "stderr",
     "output_type": "stream",
     "text": [
      "2025-07-24 20:38:39.007 \n",
      "  \u001b[33m\u001b[1mWarning:\u001b[0m to view this Streamlit app on a browser, run it with the following\n",
      "  command:\n",
      "\n",
      "    streamlit run interface.py [ARGUMENTS]\n",
      "2025-07-24 20:38:39.007 Session state does not function when running a script without `streamlit run`\n"
     ]
    }
   ],
   "source": [
    "!python interface.py"
   ]
  },
  {
   "cell_type": "code",
   "execution_count": null,
   "id": "b86f41f9-5242-4c36-8ee2-67d08038be15",
   "metadata": {},
   "outputs": [],
   "source": []
  }
 ],
 "metadata": {
  "kernelspec": {
   "display_name": "Python [conda env:base] *",
   "language": "python",
   "name": "conda-base-py"
  },
  "language_info": {
   "codemirror_mode": {
    "name": "ipython",
    "version": 3
   },
   "file_extension": ".py",
   "mimetype": "text/x-python",
   "name": "python",
   "nbconvert_exporter": "python",
   "pygments_lexer": "ipython3",
   "version": "3.12.7"
  }
 },
 "nbformat": 4,
 "nbformat_minor": 5
}
